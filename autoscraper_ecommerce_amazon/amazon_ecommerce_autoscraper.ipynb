{
 "cells": [
  {
   "cell_type": "markdown",
   "source": [
    "#### Automating webscraping amazon ecommerce\n",
    "\n",
    "###### Packages:\n",
    "1. AutoScraper (pip install autoscraper)\n",
    "2. Pandas (pip install pandas)\n",
    "3. openpyxl (pip install openpyxl)"
   ],
   "metadata": {
    "collapsed": false
   },
   "id": "390662723c348267"
  },
  {
   "cell_type": "code",
   "execution_count": 1,
   "id": "initial_id",
   "metadata": {
    "collapsed": true,
    "ExecuteTime": {
     "end_time": "2024-03-29T23:46:51.017572Z",
     "start_time": "2024-03-29T23:46:50.558841Z"
    }
   },
   "outputs": [],
   "source": [
    "from pathlib import Path\n",
    "\n",
    "from autoscraper import AutoScraper\n",
    "import pandas as pd\n",
    "\n",
    "filepath = Path('download/earbudds_title_list.csv')\n",
    "filepath.parent.mkdir(parents=True, exist_ok=True)"
   ]
  },
  {
   "cell_type": "code",
   "outputs": [],
   "source": [
    "amazon_url1 = 'https://www.amazon.co.uk/s?k=headphones'\n",
    "amazon_url2 = 'https://www.amazon.co.uk/s?k=earbuds'\n",
    "data_wanted_list = ['Sony MDR-ZX110 Overhead Headphones - Black , BASIC, Pack of 1', '£12.75', '39,914']\n",
    "# data_wanted_list2 = ['JLab Go Air Pop True Wireless Earbuds, Headphones In Ear, Bluetooth Earphones with Microphone, Wireless Ear Buds, TWS Bluetooth Earbuds with Mic, USB Charging Case, Dual Connect, EQ3 Sound, Black', '£24.99', '34,239']"
   ],
   "metadata": {
    "collapsed": false,
    "ExecuteTime": {
     "end_time": "2024-03-29T23:46:51.021733Z",
     "start_time": "2024-03-29T23:46:51.018584Z"
    }
   },
   "id": "adbdb038c3564adb",
   "execution_count": 2
  },
  {
   "cell_type": "code",
   "outputs": [
    {
     "data": {
      "text/plain": "['Amazon\\'s Choicefor \"headphones\"',\n 'KVIDIO Bluetooth Headphones Over Ear, 65 Hours Playtime Wireless Headphones with Microphone, Foldable Lightweight Headset with Deep Bass,HiFi Stereo Sound for Travel Work PC Cellphone (Black)',\n 'Sony WH-CH520 Wireless Bluetooth Headphones - up to 50 Hours Battery Life with Quick Charge, On-ear style - Black',\n 'Sony MDR-ZX110 Overhead Headphones - Black , BASIC, Pack of 1',\n '3 Pack Earphones, In-Ear Headphones Wired Earphones with Microphone and Volume Control, Noise Isolating and Deep Bass, Lightweight Earphones, 3.5 mm Earbuds Compatible with iPhone, iPad, Android',\n 'Best Sellerin Noise Cancelling Headphones',\n 'soundcore by Anker Q20i Hybrid Active Noise Cancelling Foldable Headphones, Wireless Over-Ear Bluetooth, 40H Long ANC Playtime, Hi-Res Audio, Big Bass, Customize via an App, Transparency Mode',\n 'JBL Tune510BT - Wireless on-ear headphones featuring Bluetooth 5.0, up to 40 hours battery life and speed charge, in black',\n 'Wireless Earbuds, Bluetooth 5.3 Headphones In Ear with 4 ENC Noise Cancelling Mic, 2023 Bluetooth Earphones Mini HI-FI Stereo Sound, LED Display Wireless Headphones 36H Playtime IP7 Waterproof, Green',\n 'Rebocico Bluetooth Headphones Over Ear, 6 EQ Modes Wireless Headphones Over Ear,65 Hours Playtime Foldable Lightweight Wireless Headphones,with Built-in HD Mic, FM, SD/TF for PC/Home(Black & Gold)',\n 'Sony WH-1000XM4 Noise Cancelling Wireless Headphones - 30 hours battery life - Over Ear style - Optimised for Alexa and the Google Assistant - with built-in mic for phone calls - Black',\n 'Numark HF125 - Ultra-Portable Professional DJ Headphones with 6 ft Cable, 40 mm Drivers for Extended Response & Closed Back Design for Superior Isolation, Black',\n '2 Pack Earphones, In-Ear Headphones Wired Earbuds, Noise Isolating Headset With Microphone, Compatible with Phone Pad Samsung HuaWei MP3 Players Smartphones and Laptops',\n 'DOQAUS Bluetooth Headphones Over Ear, 90H Playtime, Bluetooth 5.3 Wireless Headphones with 3 EQ Modes, HiFi Stereo Bass Sound, Built-in Mic, Soft Earpad, Foldable Headphones for Phone/PC/Travel(Black)',\n 'Sony WH-CH720N Noise Cancelling Wireless Bluetooth Headphones - Up to 35 hours battery life and Quick Charge - Blue',\n 'ZIHNIC Bluetooth Headphones Over-Ear, Foldable Wireless and Wired Stereo Headset Micro SD/TF, FM for Cell Phone,PC,Soft Earmuffs &Light Weight for Prolonged Wearing(Rose)',\n 'SoundPEATS Bluetooth Headphones, A6 Hybrid Active Noise Cancelling Earphones Over Ear Headphones, 38 Hours Playtime(ANC Off), USB-C, Foldable Design with Ergonomic Headband, Memory Foam Earcups',\n 'Marshall Monitor II A.N.C. Headphone - Black',\n 'KVIDIO Bluetooth Headphones Over Ear, 65 Hours Playtime Wireless Headphones with Microphone, Foldable Lightweight Headset ...',\n '3 Pack Earphones, In-Ear Headphones Wired Earphones with Microphone and Volume Control, Noise Isolating and Deep Bass, Lig...',\n 'soundcore by Anker Q20i Hybrid Active Noise Cancelling Foldable Headphones, Wireless Over-Ear Bluetooth, 40H Long ANC Play...',\n 'Wireless Earbuds, Bluetooth 5.3 Headphones In Ear with 4 ENC Noise Cancelling Mic, 2023 Bluetooth Earphones Mini HI-FI Ste...',\n 'Rebocico Bluetooth Headphones Over Ear, 6 EQ Modes Wireless Headphones Over Ear,65 Hours Playtime Foldable Lightweight Wir...',\n 'Sony WH-1000XM4 Noise Cancelling Wireless Headphones - 30 hours battery life - Over Ear style - Optimised for Alexa and th...',\n 'Numark HF125 - Ultra-Portable Professional DJ Headphones with 6 ft Cable, 40 mm Drivers for Extended Response & Closed Bac...',\n '2 Pack Earphones, In-Ear Headphones Wired Earbuds, Noise Isolating Headset With Microphone, Compatible with Phone Pad Sams...',\n 'DOQAUS Bluetooth Headphones Over Ear, 90H Playtime, Bluetooth 5.3 Wireless Headphones with 3 EQ Modes, HiFi Stereo Bass So...',\n 'ZIHNIC Bluetooth Headphones Over-Ear, Foldable Wireless and Wired Stereo Headset Micro SD/TF, FM for Cell Phone,PC,Soft Ea...',\n 'SoundPEATS Bluetooth Headphones, A6 Hybrid Active Noise Cancelling Earphones Over Ear Headphones, 38 Hours Playtime(ANC Of...',\n '£18.99',\n '£37.99',\n '£12.75',\n '£11.99',\n '£49.99',\n '£29.99',\n '£24.99',\n '£22.99',\n '£199.00',\n '£9.84',\n '£5.68',\n '£79.00',\n '£69.99',\n '£235.00']"
     },
     "execution_count": 3,
     "metadata": {},
     "output_type": "execute_result"
    }
   ],
   "source": [
    "# Create an AutoScraper object\n",
    "scraper = AutoScraper()\n",
    "\n",
    "# if you have a proxy address\n",
    "proxy = {\n",
    "    \"http\": 'PROXY_ENDPOINT_HERE',\n",
    "    \"https\": 'PROXY_ENDPOINT_HERE',\n",
    "}\n",
    "# Build the scraper by providing the Amazon URL (amazon_url1) and the list of data wanted (data_wanted_list)\n",
    "scraper.build(url=amazon_url1, wanted_list=data_wanted_list) #request_args={\"proxies\": proxy}\n"
   ],
   "metadata": {
    "collapsed": false,
    "ExecuteTime": {
     "end_time": "2024-03-29T23:46:52.820133Z",
     "start_time": "2024-03-29T23:46:51.022739Z"
    }
   },
   "id": "e8bab1dc65cc1f4a",
   "execution_count": 3
  },
  {
   "cell_type": "code",
   "outputs": [],
   "source": [
    "# Retrieve similar results from the Amazon website using a scraper object and a given URL\n",
    "result1 = scraper.get_result_similar(amazon_url1, grouped=True)\n",
    "\n",
    "# Create a list containing all the keys from result1 using list comprehension\n",
    "result1_key_list = [key for key in result1.keys()]\n",
    "\n",
    "# Set an alias for the first key in result1 to be used as 'Title'\n",
    "scraper.set_rule_aliases({result1_key_list[0]: 'Title'})\n",
    "\n",
    "# Keep only the rules corresponding to the first key in result1\n",
    "scraper.keep_rules([result1_key_list[0]])\n",
    "\n",
    "# Save the scraper rules configuration with the alias and kept rule\n",
    "scraper.save('amazon-search')\n",
    "\n",
    "# Load the saved configuration for future use\n",
    "scraper.load('amazon-search')\n"
   ],
   "metadata": {
    "collapsed": false,
    "ExecuteTime": {
     "end_time": "2024-03-29T23:46:53.941015Z",
     "start_time": "2024-03-29T23:46:52.820133Z"
    }
   },
   "id": "8d7d21f8277591a4",
   "execution_count": 4
  },
  {
   "cell_type": "code",
   "outputs": [
    {
     "name": "stdout",
     "output_type": "stream",
     "text": [
      "{'Title': ['Amazon\\'s Choicefor \"earbuds\"', 'Wireless Earbuds, Bluetooth 5.3 Headphones In Ear with 4 ENC Noise Cancelling Mic, Btootos New Bluetooth Earbuds Mini Deep Bass Stereo Sound, 36H Playtime LED Display Wireless Earphones IP7 Waterproof', 'Wireless Earbuds, Bluetooth 5.3 Headphones in Ear with HiFi Stereo Deep Bass, 4 ENC Noise Cancelling Mic Wireless Earphones 40H Playtime, Bluetooth Earbuds Dual LED Display, IP7 Waterproof, USB-C', 'Wireless Earbuds - Bluetooth 5.3 Headphones with 4 ENC Noise Cancelling Mics - HiFi Stereo Deep Bass - 40 Hour Playtime In Ear Earphones - USB C Charging - Perfect for Sports, Work, and Leisure', 'soundcore by Anker P20i True Wireless Earbuds, 10mm Drivers with Big Bass, Bluetooth 5.3, 30H Long Playtime, IPX5 Water-Resistant, 2 Mics for AI Clear Calls, 22 Preset EQs, Customization via App', 'soundcore by Anker A20i True Wireless Earbuds, Bluetooth 5.3, With App for Custom Sound, 28H Long Playtime, Water-Resistant, 2 Mics for Clear Calls, Single Earbud Mode, Compact Design', 'soundcore by Anker A3i Noise Cancelling Earbuds, Deep Bass, Hybrid ANC, AI-Enhanced Calls with 6 Mics, 40H Playtime with Fast Charging, Bluetooth 5.2 Earbuds, 22 Custom EQ, Transparency Mode', 'Sony WF-C500 True Wireless Headphones (Up to 20 Hours Battery Life with Charging Case - Compatible with Voice Assistant, Built-in Microphone for Phone Calls, Bluetooth) Black', 'Wireless Earbuds, Bluetooth 5.3 Headphones NEW Wireless Headphones with 4 ENC Mic, 56H Bluetooth Earphones in Ear Noise Cancelling Deep Bass, Mini Ear Buds Bluetooth Earbuds IP7 Waterproof LED Display', 'Wireless Earbuds, Bluetooth 5.3 Headphones 2024 Wireless Headphones in Ear with ENC Mic, Bluetooth Earphones Noise Cancelling Ear buds with 50H Hifi Stereo, IP7 Waterproof Headset, USB-C, LED Display', 'Sony WF-C700N Wireless, Bluetooth, Noise Cancelling Earbuds (Small, Lightweight Earbuds with Multi-Point Connection, IPX4 rating, up to 20 HR battery, Quick Charge, iOS & Android) Black', 'HKBTCH Wireless Earbuds, Wireless Headphones Bluetooth Headphones 3D HiFi Stereo Headphones Noise Cancellation in-Ear Built-in Mic with Charging Case, IPX7 Waterproof for Work, Travel (White)', 'Leoxol Wireless Earbuds, Bluetooth 5.3 Headphones In Ear with 4 ENC Noise Cancelling Mic, New Bluetooth Earbuds Mini Deep Bass Stereo Sound, 36H Playtime LED Display Wireless Earphones (Black)', 'soundcore Wireless Earbuds, A1 Bluetooth Earbuds, Powerful Customized Sound, 35H Playtime, Wireless Charging, USB-C Fast Charge, IPX7 Waterproof, Button Control, Commute, Sports', 'Aptkdoe Wireless Earbuds, 75H Bluetooth 5.3 Headphones with ENC Noise Cancelling Mic, Deep Bass Wireless Earphones, Dual LED Display, IP7 Waterproof, Sports Ear buds with Ear hooks for Running, Gym', 'Amazon Exclusive', 'Samsung Galaxy Buds FE Wireless Earbuds, Active Noise Cancelling, Comfort Fit, 2 Year Extended Manufacturer Warranty, Graphite (UK Version)', 'Wireless Earbuds, Bluetooth 5.3 Headphones in Ear with 4 ENC Noise Cancelling Mic, Bluetooth Earbuds 40H Playtime, 2023 HiFi Stereo Deep Bass Wireless Earphones, IP7 Waterproof, USB-C Fast Charge']}\n"
     ]
    }
   ],
   "source": [
    "# Retrieve similar results from the Amazon website using a scraper object and a given URL\n",
    "result2 = scraper.get_result_similar(amazon_url2,group_by_alias=True)\n",
    "print(result2)"
   ],
   "metadata": {
    "collapsed": false,
    "ExecuteTime": {
     "end_time": "2024-03-29T23:46:55.225583Z",
     "start_time": "2024-03-29T23:46:53.942020Z"
    }
   },
   "id": "af4ee843dd6af659",
   "execution_count": 5
  },
  {
   "cell_type": "code",
   "outputs": [],
   "source": [
    "# Initialize an empty list to store the earbuds titles\n",
    "ear_budds_list = []\n",
    "\n",
    "# Iterate through each title in result2\n",
    "for result_values in result2.values():\n",
    "    for result_item in result_values:\n",
    "        # Get the exact result for the current title using the scraper\n",
    "        #earbuds_title = scraper.get_result_exact(result_item)\n",
    "        # Append the earbuds title to the list\n",
    "        ear_budds_list.append(result_item)\n",
    "\n",
    "# Create a DataFrame from the earbuds list with columns \"earbuds Title\" and \"Price\"\n",
    "df = pd.DataFrame(ear_budds_list, columns=[\"earbuds Title\"])\n",
    "\n",
    "# Save the DataFrame to an Excel file named \"ear_budds_list.xlsx\"\n",
    "df.to_excel(\"ear_budds_list.xlsx\")\n",
    "df.to_csv(filepath)"
   ],
   "metadata": {
    "collapsed": false,
    "ExecuteTime": {
     "end_time": "2024-03-29T23:46:55.401648Z",
     "start_time": "2024-03-29T23:46:55.226598Z"
    }
   },
   "id": "3caaf1fb2093a3af",
   "execution_count": 6
  },
  {
   "cell_type": "code",
   "outputs": [],
   "source": [],
   "metadata": {
    "collapsed": false,
    "ExecuteTime": {
     "end_time": "2024-03-29T23:46:55.404463Z",
     "start_time": "2024-03-29T23:46:55.402658Z"
    }
   },
   "id": "2d5e473b7cdd6fe0",
   "execution_count": 6
  }
 ],
 "metadata": {
  "kernelspec": {
   "display_name": "Python 3",
   "language": "python",
   "name": "python3"
  },
  "language_info": {
   "codemirror_mode": {
    "name": "ipython",
    "version": 2
   },
   "file_extension": ".py",
   "mimetype": "text/x-python",
   "name": "python",
   "nbconvert_exporter": "python",
   "pygments_lexer": "ipython2",
   "version": "2.7.6"
  }
 },
 "nbformat": 4,
 "nbformat_minor": 5
}
